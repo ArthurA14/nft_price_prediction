{
 "cells": [
  {
   "cell_type": "code",
   "execution_count": 11,
   "metadata": {},
   "outputs": [],
   "source": [
    "import requests, json, time\n",
    "import pandas as pd"
   ]
  },
  {
   "cell_type": "code",
   "execution_count": 2,
   "metadata": {},
   "outputs": [
    {
     "data": {
      "text/plain": [
       "{'detail': 'Request was throttled. Expected available in 1 second.'}"
      ]
     },
     "execution_count": 2,
     "metadata": {},
     "output_type": "execute_result"
    }
   ],
   "source": [
    "\n",
    "api_key = \"8b707e3a2b334c40bf7943b1b328e6e9\"\n",
    "headers = { 'X-API-KEY': api_key }\n",
    "\n",
    "asset_contract_address = \"0x764AeebcF425d56800eF2c84F2578689415a2DAa\"\n",
    "\n",
    "response = requests.get(\n",
    "    f\"https://api.opensea.io/v2/listings/collection/cool-cats-nft/all\", headers=headers)\n",
    "\n",
    "data = response.json()\n",
    "\n",
    "data"
   ]
  },
  {
   "cell_type": "code",
   "execution_count": 3,
   "metadata": {},
   "outputs": [
    {
     "name": "stdout",
     "output_type": "stream",
     "text": [
      "Cool Cats NFT\n",
      "\n",
      "{'one_hour_volume': 2.55, 'one_hour_change': 0.0, 'one_hour_sales': 1.0, 'one_hour_sales_change': 0.0, 'one_hour_average_price': 2.55, 'one_hour_difference': 2.55, 'six_hour_volume': 4.829, 'six_hour_change': 1.3782319625707953, 'six_hour_sales': 2.0, 'six_hour_sales_change': 1.0, 'six_hour_average_price': 2.4145, 'six_hour_difference': 2.7984999999999998, 'one_day_volume': 23.34934, 'one_day_change': 0.5075226538313786, 'one_day_sales': 7.0, 'one_day_sales_change': 0.0, 'one_day_average_price': 3.33562, 'one_day_difference': 7.86079, 'seven_day_volume': 166.15000910000003, 'seven_day_change': 0.23932870427366873, 'seven_day_sales': 69.0, 'seven_day_average_price': 2.407971146376812, 'seven_day_difference': 32.08548810000005, 'thirty_day_volume': 613.5166283, 'thirty_day_change': -0.5786148156294565, 'thirty_day_sales': 251.0, 'thirty_day_average_price': 2.4442893557768923, 'thirty_day_difference': -842.435434220799, 'total_volume': 117174.0558048673, 'total_sales': 31840.0, 'total_supply': 9960.0, 'count': 9960.0, 'num_owners': 5565, 'average_price': 3.680089692363923, 'num_reports': 1, 'market_cap': 23983.392617913047, 'floor_price': 2.289}\n",
      "2021-06-27T09:03:35.403074+00:00\n"
     ]
    },
    {
     "data": {
      "text/plain": [
       "dict_keys(['editors', 'payment_tokens', 'primary_asset_contracts', 'traits', 'stats', 'banner_image_url', 'chat_url', 'created_date', 'default_to_fiat', 'description', 'dev_buyer_fee_basis_points', 'dev_seller_fee_basis_points', 'discord_url', 'display_data', 'external_url', 'featured', 'featured_image_url', 'hidden', 'safelist_request_status', 'image_url', 'is_subject_to_whitelist', 'large_image_url', 'medium_username', 'name', 'only_proxied_transfers', 'opensea_buyer_fee_basis_points', 'opensea_seller_fee_basis_points', 'payout_address', 'require_email', 'short_description', 'slug', 'telegram_url', 'twitter_username', 'instagram_username', 'wiki_url', 'is_nsfw', 'fees', 'is_rarity_enabled', 'is_creator_fees_enforced'])"
      ]
     },
     "execution_count": 3,
     "metadata": {},
     "output_type": "execute_result"
    }
   ],
   "source": [
    "url = \"https://api.opensea.io/api/v1/asset_contract/0x06012c8cf97bead5deae237070f9587f8e7a266d\"\n",
    "collection_slug= \"cool-cats-nft\"\n",
    "\n",
    "response = requests.get(\n",
    "    f\"https://api.opensea.io/api/v1/collection/{collection_slug}\", headers=headers)\n",
    "\n",
    "data = response.json()\n",
    "# Directly from dictionary\n",
    "with open('json_data.json', 'w') as outfile:\n",
    "    json.dump(data, outfile)\n",
    "\n",
    "name = data['collection']['name']\n",
    "print(name)\n",
    "print()\n",
    "asset_contracts = data['collection']['primary_asset_contracts']\n",
    "#print(asset_contract_address)\n",
    "\n",
    "collection_stats = data['collection']['stats']\n",
    "print(collection_stats)\n",
    "\n",
    "creation_date = data['collection']['created_date']\n",
    "print(creation_date)\n",
    "\n",
    "verified = True if data['collection']['safelist_request_status'] == 'verified' else False\n",
    "is_subject_to_whitelist = data['collection']['is_subject_to_whitelist']\n",
    "\n",
    "data['collection'].keys()\n"
   ]
  },
  {
   "attachments": {},
   "cell_type": "markdown",
   "metadata": {},
   "source": [
    "### Get all assets from a collection using its slug"
   ]
  },
  {
   "cell_type": "code",
   "execution_count": 23,
   "metadata": {},
   "outputs": [
    {
     "name": "stdout",
     "output_type": "stream",
     "text": [
      "Next token: LXBrPTMwMjQ3OTQx\n",
      "Appel d'une nouvelle page avec l'url suivante : https://api.opensea.io/api/v1/assets?collection_slug=cool-cats-nft&order_direction=desc&limit=200&include_orders=true&cursor=LXBrPTMwMjQ3OTQx\n",
      "Next token: LXBrPTMwMjQ3Njc0\n",
      "Appel d'une nouvelle page avec l'url suivante : https://api.opensea.io/api/v1/assets?collection_slug=cool-cats-nft&order_direction=desc&limit=200&include_orders=true&cursor=LXBrPTMwMjQ3Njc0\n",
      "Next token: LXBrPTMwMjQ3MzQx\n",
      "Appel d'une nouvelle page avec l'url suivante : https://api.opensea.io/api/v1/assets?collection_slug=cool-cats-nft&order_direction=desc&limit=200&include_orders=true&cursor=LXBrPTMwMjQ3MzQx\n",
      "Next token: LXBrPTMwMjQ3MDY4\n",
      "Appel d'une nouvelle page avec l'url suivante : https://api.opensea.io/api/v1/assets?collection_slug=cool-cats-nft&order_direction=desc&limit=200&include_orders=true&cursor=LXBrPTMwMjQ3MDY4\n",
      "Next token: LXBrPTMwMjQ2ODAw\n",
      "Appel d'une nouvelle page avec l'url suivante : https://api.opensea.io/api/v1/assets?collection_slug=cool-cats-nft&order_direction=desc&limit=200&include_orders=true&cursor=LXBrPTMwMjQ2ODAw\n",
      "Next token: LXBrPTMwMjQ2NTUy\n",
      "Appel d'une nouvelle page avec l'url suivante : https://api.opensea.io/api/v1/assets?collection_slug=cool-cats-nft&order_direction=desc&limit=200&include_orders=true&cursor=LXBrPTMwMjQ2NTUy\n",
      "Next token: LXBrPTMwMjQ2MTM3\n",
      "Appel d'une nouvelle page avec l'url suivante : https://api.opensea.io/api/v1/assets?collection_slug=cool-cats-nft&order_direction=desc&limit=200&include_orders=true&cursor=LXBrPTMwMjQ2MTM3\n",
      "Next token: LXBrPTMwMjQ1ODE2\n",
      "Appel d'une nouvelle page avec l'url suivante : https://api.opensea.io/api/v1/assets?collection_slug=cool-cats-nft&order_direction=desc&limit=200&include_orders=true&cursor=LXBrPTMwMjQ1ODE2\n",
      "Total: 1600\n"
     ]
    }
   ],
   "source": [
    "url = \"https://api.opensea.io/api/v1/assets?collection_slug=cool-cats-nft&order_direction=desc&limit=200&include_orders=true\"\n",
    "\n",
    "headers = {\n",
    "    \"accept\": \"application/json\",\n",
    "    \"X-API-KEY\": api_key\n",
    "}\n",
    "\n",
    "assets_list = list()\n",
    "\n",
    "response = requests.get(url, headers=headers)\n",
    "while response.status_code == 200:\n",
    "    print(\"Next token:\", response.json()['next'])\n",
    "    response_json = response.json()\n",
    "    assets_list += response_json['assets']\n",
    "\n",
    "    if response.json()['next']:\n",
    "        new_url = url + '&cursor=' + response_json['next']\n",
    "        print('Appel d\\'une nouvelle page avec l\\'url suivante :', new_url)\n",
    "        response = requests.get(new_url, headers=headers)\n",
    "        time.sleep(3.5)\n",
    "        \n",
    "    else:\n",
    "        print(\"Plus de page Next, fin de la récupération.\")\n",
    "        break\n",
    "    \n",
    "print(\"Total:\", len(assets_list))"
   ]
  },
  {
   "cell_type": "code",
   "execution_count": 5,
   "metadata": {},
   "outputs": [],
   "source": [
    "#df = pd.DataFrame(data, index=[0])\n",
    "#cols = ['sell_orders', 'top_bid', 'listing_date', 'is_presale', 'transfer_fee', 'supports_wyvern', 'numEvents', 'transfer', 'successful', 'bid_entered', 'created', 'offer_entered', 'cancelled', 'custom', 'bid_withdrawn', 'approve', 'num_primary_asset_contracts', 'one_day_volume', 'one_day_change', 'one_day_sales', 'one_day_average_price', 'seven_day_volume', 'seven_day_change', 'seven_day_sales', 'seven_day_average_price', 'thirty_day_volume', 'thirty_day_change', 'thirty_day_sales', 'thirty_day_average_price', 'total_volume', 'total_sales', 'total_supply', 'count', 'num_owners', 'average_price', 'num_reports', 'market_cap', 'floor_price', 'is_collection_verified', 'is_subject_to_whitelist', 'collection_name', 'creation_day', 'creation_month', 'creation_year', 'price_label', 'sale_label']\n",
    "#df = df[cols]"
   ]
  }
 ],
 "metadata": {
  "kernelspec": {
   "display_name": "Python 3",
   "language": "python",
   "name": "python3"
  },
  "language_info": {
   "codemirror_mode": {
    "name": "ipython",
    "version": 3
   },
   "file_extension": ".py",
   "mimetype": "text/x-python",
   "name": "python",
   "nbconvert_exporter": "python",
   "pygments_lexer": "ipython3",
   "version": "3.10.3"
  },
  "orig_nbformat": 4,
  "vscode": {
   "interpreter": {
    "hash": "199cc7b1c13c7b8fc4e2a79951b33aff6b92ed11f17f4b9736a6a5fecf66577f"
   }
  }
 },
 "nbformat": 4,
 "nbformat_minor": 2
}
